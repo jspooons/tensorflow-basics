{
 "cells": [
  {
   "cell_type": "markdown",
   "metadata": {},
   "source": [
    "# 1. Imports"
   ]
  },
  {
   "cell_type": "code",
   "execution_count": 2,
   "metadata": {},
   "outputs": [],
   "source": [
    "import json\n",
    "import numpy as np\n",
    "import tensorflow as tf\n",
    "import io\n",
    "from tensorflow.keras.preprocessing.text import Tokenizer\n",
    "from tensorflow.keras.preprocessing.sequence import pad_sequences\n",
    "import matplotlib.pyplot as plt\n"
   ]
  },
  {
   "cell_type": "markdown",
   "metadata": {},
   "source": [
    "# 2. Load the Data"
   ]
  },
  {
   "cell_type": "code",
   "execution_count": 3,
   "metadata": {},
   "outputs": [
    {
     "name": "stdout",
     "output_type": "stream",
     "text": [
      "--2023-11-14 01:13:18--  https://storage.googleapis.com/tensorflow-1-public/course3/sarcasm.json\n",
      "Resolving storage.googleapis.com (storage.googleapis.com)... 172.217.16.251, 142.250.187.251, 142.250.180.27, ...\n",
      "Connecting to storage.googleapis.com (storage.googleapis.com)|172.217.16.251|:443... connected.\n",
      "HTTP request sent, awaiting response... 200 OK\n",
      "Length: 5643545 (5.4M) [application/json]\n",
      "Saving to: ‘./data/sarcasm.json’\n",
      "\n",
      "./data/sarcasm.json 100%[===================>]   5.38M  --.-KB/s    in 0.1s    \n",
      "\n",
      "2023-11-14 01:13:19 (42.5 MB/s) - ‘./data/sarcasm.json’ saved [5643545/5643545]\n",
      "\n"
     ]
    }
   ],
   "source": [
    "# Download the dataset\n",
    "!wget https://storage.googleapis.com/tensorflow-1-public/course3/sarcasm.json -O \"./data/sarcasm.json\""
   ]
  },
  {
   "cell_type": "code",
   "execution_count": 4,
   "metadata": {},
   "outputs": [],
   "source": [
    "with open('./data/sarcasm.json', 'r') as f:\n",
    "    datastore = json.load(f)\n",
    "\n",
    "sentences = []\n",
    "labels = []\n",
    "\n",
    "for item in datastore:\n",
    "    sentences.append(item['headline'])\n",
    "    labels.append(item['is_sarcastic'])"
   ]
  },
  {
   "cell_type": "markdown",
   "metadata": {},
   "source": [
    "# 3. Hyperparameters"
   ]
  },
  {
   "cell_type": "code",
   "execution_count": 5,
   "metadata": {},
   "outputs": [],
   "source": [
    "training_size = 20000\n",
    "vocab_size = 10000 # vocab size of the tokenizer\n",
    "max_length = 32 # maximum length of the padded sequence\n",
    "embedding_dim = 16 # output dimensions of the embedding layer"
   ]
  },
  {
   "cell_type": "markdown",
   "metadata": {},
   "source": [
    "# 4. Split the dataset"
   ]
  },
  {
   "cell_type": "code",
   "execution_count": 6,
   "metadata": {},
   "outputs": [],
   "source": [
    "training_sentences = sentences[0:training_size]\n",
    "testing_sentences = sentences[training_size:]\n",
    "\n",
    "training_labels = labels[0:training_size]\n",
    "testing_labels = labels[training_size:]"
   ]
  },
  {
   "cell_type": "markdown",
   "metadata": {},
   "source": [
    "# 5. Pre-processing"
   ]
  },
  {
   "cell_type": "code",
   "execution_count": 7,
   "metadata": {},
   "outputs": [],
   "source": [
    "# parameters for padding and OOV (out of vocav) tokens\n",
    "trunc_type = 'post' # for longer sentences, remove tokens at the end\n",
    "padding_type = 'post' # for shorter sentences, pad with zeros at the end\n",
    "oov_tok = \"<OOV>\" # try to pick a oov token that will not appear in your dataset (hence the use of <>)\n",
    "\n",
    "# Initialize the Tokenizer\n",
    "tokenizer = Tokenizer(num_words=vocab_size, oov_token=oov_tok)\n",
    "\n",
    "# Generate the word index dictionary\n",
    "tokenizer.fit_on_texts(training_sentences)\n",
    "word_index = tokenizer.word_index\n",
    "\n",
    "# Generate and pad the training sequences\n",
    "training_sequences = tokenizer.texts_to_sequences(training_sentences)\n",
    "training_padded = pad_sequences(training_sequences, maxlen=max_length, padding=padding_type, truncating=trunc_type)\n",
    "\n",
    "# Generate and pad the testing sequences\n",
    "testing_sequences = tokenizer.texts_to_sequences(testing_sentences)\n",
    "testing_padded = pad_sequences(testing_sequences, maxlen=max_length, padding=padding_type, truncating=trunc_type)\n",
    "\n",
    "# Convert the labels lists into numpy arrays\n",
    "training_labels = np.array(training_labels)\n",
    "testing_labels = np.array(testing_labels)"
   ]
  },
  {
   "cell_type": "markdown",
   "metadata": {},
   "source": [
    "# 6. Building the Model"
   ]
  },
  {
   "cell_type": "code",
   "execution_count": 8,
   "metadata": {},
   "outputs": [
    {
     "name": "stdout",
     "output_type": "stream",
     "text": [
      "Model: \"sequential\"\n",
      "_________________________________________________________________\n",
      " Layer (type)                Output Shape              Param #   \n",
      "=================================================================\n",
      " embedding (Embedding)       (None, 32, 16)            160000    \n",
      "                                                                 \n",
      " global_average_pooling1d (  (None, 16)                0         \n",
      " GlobalAveragePooling1D)                                         \n",
      "                                                                 \n",
      " dense (Dense)               (None, 24)                408       \n",
      "                                                                 \n",
      " dense_1 (Dense)             (None, 1)                 25        \n",
      "                                                                 \n",
      "=================================================================\n",
      "Total params: 160433 (626.69 KB)\n",
      "Trainable params: 160433 (626.69 KB)\n",
      "Non-trainable params: 0 (0.00 Byte)\n",
      "_________________________________________________________________\n"
     ]
    }
   ],
   "source": [
    "# You can think of sequences like one dimensional images. \n",
    "# Typically we flatten images before they go to Dense layers, but we will use GlobalAveragePooling1D instead\n",
    "# This averages over the sequence dimension before connecting to the dense layers\n",
    "\n",
    "model = tf.keras.Sequential([\n",
    "    tf.keras.layers.Embedding(vocab_size, embedding_dim, input_length=max_length),\n",
    "    tf.keras.layers.GlobalAveragePooling1D(),\n",
    "    tf.keras.layers.Dense(24, activation='relu'),\n",
    "    tf.keras.layers.Dense(1, activation='sigmoid')\n",
    "])\n",
    "\n",
    "model.summary()"
   ]
  },
  {
   "cell_type": "code",
   "execution_count": 9,
   "metadata": {},
   "outputs": [],
   "source": [
    "model.compile(loss='binary_crossentropy', optimizer='adam', metrics=['accuracy'])"
   ]
  },
  {
   "cell_type": "markdown",
   "metadata": {},
   "source": [
    "# 7. Train the Model"
   ]
  },
  {
   "cell_type": "code",
   "execution_count": 22,
   "metadata": {},
   "outputs": [
    {
     "name": "stdout",
     "output_type": "stream",
     "text": [
      "Epoch 1/30\n",
      "625/625 [==============================] - 1s 1ms/step - loss: 0.5668 - accuracy: 0.6913 - val_loss: 0.3963 - val_accuracy: 0.8369\n",
      "Epoch 2/30\n",
      "625/625 [==============================] - 1s 1ms/step - loss: 0.3126 - accuracy: 0.8731 - val_loss: 0.3432 - val_accuracy: 0.8563\n",
      "Epoch 3/30\n",
      "625/625 [==============================] - 1s 968us/step - loss: 0.2347 - accuracy: 0.9084 - val_loss: 0.3426 - val_accuracy: 0.8571\n",
      "Epoch 4/30\n",
      "625/625 [==============================] - 1s 965us/step - loss: 0.1891 - accuracy: 0.9280 - val_loss: 0.3602 - val_accuracy: 0.8539\n",
      "Epoch 5/30\n",
      "625/625 [==============================] - 1s 969us/step - loss: 0.1567 - accuracy: 0.9415 - val_loss: 0.3866 - val_accuracy: 0.8524\n",
      "Epoch 6/30\n",
      "625/625 [==============================] - 1s 971us/step - loss: 0.1321 - accuracy: 0.9536 - val_loss: 0.4215 - val_accuracy: 0.8477\n",
      "Epoch 7/30\n",
      "625/625 [==============================] - 1s 967us/step - loss: 0.1136 - accuracy: 0.9603 - val_loss: 0.4693 - val_accuracy: 0.8396\n",
      "Epoch 8/30\n",
      "625/625 [==============================] - 1s 968us/step - loss: 0.0979 - accuracy: 0.9691 - val_loss: 0.5085 - val_accuracy: 0.8366\n",
      "Epoch 9/30\n",
      "625/625 [==============================] - 1s 1ms/step - loss: 0.0855 - accuracy: 0.9714 - val_loss: 0.5514 - val_accuracy: 0.8381\n",
      "Epoch 10/30\n",
      "625/625 [==============================] - 1s 990us/step - loss: 0.0739 - accuracy: 0.9772 - val_loss: 0.6029 - val_accuracy: 0.8295\n",
      "Epoch 11/30\n",
      "625/625 [==============================] - 1s 979us/step - loss: 0.0637 - accuracy: 0.9802 - val_loss: 0.6519 - val_accuracy: 0.8264\n",
      "Epoch 12/30\n",
      "625/625 [==============================] - 1s 1ms/step - loss: 0.0557 - accuracy: 0.9831 - val_loss: 0.7039 - val_accuracy: 0.8253\n",
      "Epoch 13/30\n",
      "625/625 [==============================] - 1s 1ms/step - loss: 0.0496 - accuracy: 0.9847 - val_loss: 0.7847 - val_accuracy: 0.8192\n",
      "Epoch 14/30\n",
      "625/625 [==============================] - 1s 1ms/step - loss: 0.0428 - accuracy: 0.9865 - val_loss: 0.8206 - val_accuracy: 0.8162\n",
      "Epoch 15/30\n",
      "625/625 [==============================] - 1s 1ms/step - loss: 0.0373 - accuracy: 0.9888 - val_loss: 0.8807 - val_accuracy: 0.8183\n",
      "Epoch 16/30\n",
      "625/625 [==============================] - 1s 1ms/step - loss: 0.0331 - accuracy: 0.9904 - val_loss: 0.9393 - val_accuracy: 0.8149\n",
      "Epoch 17/30\n",
      "625/625 [==============================] - 1s 990us/step - loss: 0.0301 - accuracy: 0.9910 - val_loss: 1.0399 - val_accuracy: 0.8094\n",
      "Epoch 18/30\n",
      "625/625 [==============================] - 1s 1ms/step - loss: 0.0272 - accuracy: 0.9921 - val_loss: 1.0845 - val_accuracy: 0.8109\n",
      "Epoch 19/30\n",
      "625/625 [==============================] - 1s 1ms/step - loss: 0.0237 - accuracy: 0.9927 - val_loss: 1.1236 - val_accuracy: 0.8094\n",
      "Epoch 20/30\n",
      "625/625 [==============================] - 1s 1ms/step - loss: 0.0210 - accuracy: 0.9944 - val_loss: 1.1713 - val_accuracy: 0.8061\n",
      "Epoch 21/30\n",
      "625/625 [==============================] - 1s 990us/step - loss: 0.0192 - accuracy: 0.9952 - val_loss: 1.2194 - val_accuracy: 0.8056\n",
      "Epoch 22/30\n",
      "625/625 [==============================] - 1s 994us/step - loss: 0.0158 - accuracy: 0.9958 - val_loss: 1.3001 - val_accuracy: 0.8058\n",
      "Epoch 23/30\n",
      "625/625 [==============================] - 1s 986us/step - loss: 0.0143 - accuracy: 0.9962 - val_loss: 1.3462 - val_accuracy: 0.8059\n",
      "Epoch 24/30\n",
      "625/625 [==============================] - 1s 977us/step - loss: 0.0131 - accuracy: 0.9969 - val_loss: 1.4105 - val_accuracy: 0.8077\n",
      "Epoch 25/30\n",
      "625/625 [==============================] - 1s 988us/step - loss: 0.0122 - accuracy: 0.9965 - val_loss: 1.4809 - val_accuracy: 0.8056\n",
      "Epoch 26/30\n",
      "625/625 [==============================] - 1s 974us/step - loss: 0.0122 - accuracy: 0.9966 - val_loss: 1.5332 - val_accuracy: 0.8058\n",
      "Epoch 27/30\n",
      "625/625 [==============================] - 1s 985us/step - loss: 0.0122 - accuracy: 0.9959 - val_loss: 1.5760 - val_accuracy: 0.8046\n",
      "Epoch 28/30\n",
      "625/625 [==============================] - 1s 1ms/step - loss: 0.0094 - accuracy: 0.9979 - val_loss: 1.6359 - val_accuracy: 0.8028\n",
      "Epoch 29/30\n",
      "625/625 [==============================] - 1s 980us/step - loss: 0.0081 - accuracy: 0.9978 - val_loss: 1.7350 - val_accuracy: 0.8046\n",
      "Epoch 30/30\n",
      "625/625 [==============================] - 1s 1ms/step - loss: 0.0094 - accuracy: 0.9970 - val_loss: 1.7578 - val_accuracy: 0.8028\n"
     ]
    }
   ],
   "source": [
    "history = model.fit(training_padded, training_labels, epochs=30, validation_data=(testing_padded, testing_labels), verbose=1)"
   ]
  },
  {
   "cell_type": "markdown",
   "metadata": {},
   "source": [
    "# 8. Visualize the Output"
   ]
  },
  {
   "cell_type": "code",
   "execution_count": 23,
   "metadata": {},
   "outputs": [
    {
     "data": {
      "image/png": "[encoded data removed]",
      "text/plain": [
       "<Figure size 640x480 with 1 Axes>"
      ]
     },
     "metadata": {},
     "output_type": "display_data"
    },
    {
     "data": {
      "image/png": "[encoded data removed]",
      "text/plain": [
       "<Figure size 640x480 with 1 Axes>"
      ]
     },
     "metadata": {},
     "output_type": "display_data"
    }
   ],
   "source": [
    "def plot_graphs(history, string):\n",
    "    plt.plot(history.history[string])\n",
    "    plt.plot(history.history['val_'+string])\n",
    "    plt.xlabel(\"Epochs\")\n",
    "    plt.ylabel(string)\n",
    "    plt.legend([string, 'val_'+string])\n",
    "    plt.show()\n",
    "\n",
    "plot_graphs(history, 'accuracy')\n",
    "plot_graphs(history, 'loss')"
   ]
  },
  {
   "cell_type": "markdown",
   "metadata": {},
   "source": [
    "# 9. Word Embeddings Shape"
   ]
  },
  {
   "cell_type": "code",
   "execution_count": 11,
   "metadata": {},
   "outputs": [
    {
     "name": "stdout",
     "output_type": "stream",
     "text": [
      "(10000, 16)\n"
     ]
    }
   ],
   "source": [
    "# Get the index-word dictionary\n",
    "reverse_word_index = tokenizer.index_word\n",
    "\n",
    "# Get the embedding layer from the model (i.e. first layer)\n",
    "embedding_layer = model.layers[0]\n",
    "\n",
    "# Get the weights of the embedding layer\n",
    "embedding_weights = embedding_layer.get_weights()[0]\n",
    "\n",
    "# print the shape. Expected is (vocab_size, embedding_dim)\n",
    "print(embedding_weights.shape)"
   ]
  }
 ],
 "metadata": {
  "kernelspec": {
   "display_name": "venv",
   "language": "python",
   "name": "python3"
  },
  "language_info": {
   "codemirror_mode": {
    "name": "ipython",
    "version": 3
   },
   "file_extension": ".py",
   "mimetype": "text/x-python",
   "name": "python",
   "nbconvert_exporter": "python",
   "pygments_lexer": "ipython3",
   "version": "3.9.18"
  }
 },
 "nbformat": 4,
 "nbformat_minor": 2
}
