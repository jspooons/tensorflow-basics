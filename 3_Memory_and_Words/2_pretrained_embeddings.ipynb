{
 "cells": [
  {
   "cell_type": "markdown",
   "metadata": {},
   "source": [
    "# 1. Imports"
   ]
  },
  {
   "cell_type": "code",
   "execution_count": 1,
   "metadata": {},
   "outputs": [],
   "source": [
    "import csv\n",
    "import random\n",
    "import pickle\n",
    "import numpy as np\n",
    "import tensorflow as tf\n",
    "from tensorflow.keras.preprocessing.text import Tokenizer\n",
    "from tensorflow.keras.preprocessing.sequence import pad_sequences\n",
    "import matplotlib.pyplot as plt\n",
    "from scipy.stats import linregress"
   ]
  },
  {
   "cell_type": "markdown",
   "metadata": {},
   "source": [
    "# 2. Global Variables"
   ]
  },
  {
   "cell_type": "code",
   "execution_count": 2,
   "metadata": {},
   "outputs": [],
   "source": [
    "EMBEDDING_DIM = 100\n",
    "MAXLEN = 16\n",
    "TRUNCATING = 'post'\n",
    "PADDING = 'post'\n",
    "OOV_TOKEN = \"<OOV>\"\n",
    "MAX_EXAMPLES = 160000\n",
    "TRAINING_SPLIT = 0.9"
   ]
  },
  {
   "cell_type": "markdown",
   "metadata": {},
   "source": [
    "# 3. Load the Data"
   ]
  },
  {
   "cell_type": "code",
   "execution_count": 3,
   "metadata": {},
   "outputs": [],
   "source": [
    "SENTIMENT_CSV = \"./data/training_cleaned.csv\""
   ]
  },
  {
   "cell_type": "code",
   "execution_count": 4,
   "metadata": {},
   "outputs": [],
   "source": [
    "# The labels are originally encoded as strings ('0' representing negative and '4' representing positive). \n",
    "# So I need to change this so that the labels are integers and 0 is used for representing negative, while 1 should represent positive.\n",
    "\n",
    "def parse_data_from_file(filename):\n",
    "    \n",
    "    sentences = []\n",
    "    labels = []\n",
    "    \n",
    "    with open(filename, 'r') as csvfile:\n",
    "        reader = csv.reader(csvfile, delimiter=',')\n",
    "        \n",
    "        for item in reader:\n",
    "            sentences.append(item[5])\n",
    "            if (int(item[0]) > 0):\n",
    "                labels.append(int(item[0]) - 3)\n",
    "            else:\n",
    "                labels.append(int(item[0]))\n",
    "        \n",
    "    return sentences, labels\n",
    "\n",
    "sentences, labels = parse_data_from_file(SENTIMENT_CSV)"
   ]
  },
  {
   "cell_type": "markdown",
   "metadata": {},
   "source": [
    "# 4. Shuffling the Data"
   ]
  },
  {
   "cell_type": "code",
   "execution_count": 5,
   "metadata": {},
   "outputs": [],
   "source": [
    "# Bundle the two lists into a single one\n",
    "sentences_and_labels = list(zip(sentences, labels))\n",
    "\n",
    "# Perform random sampling\n",
    "random.seed(42)\n",
    "sentences_and_labels = random.sample(sentences_and_labels, MAX_EXAMPLES)\n",
    "\n",
    "# Unpack back into separate lists\n",
    "sentences, labels = zip(*sentences_and_labels)"
   ]
  },
  {
   "cell_type": "markdown",
   "metadata": {},
   "source": [
    "# 5. Splitting the Data"
   ]
  },
  {
   "cell_type": "code",
   "execution_count": 6,
   "metadata": {},
   "outputs": [],
   "source": [
    "def train_val_split(sentences, labels, training_split):\n",
    "    # Compute the number of sentences that will be used for training (should be an integer)\n",
    "    train_size = int(len(labels) * training_split)\n",
    "\n",
    "    # Split the sentences and labels into train/validation splits\n",
    "    train_sentences = sentences[:train_size]\n",
    "    train_labels = labels[:train_size]\n",
    "\n",
    "    validation_sentences = sentences[train_size:]\n",
    "    validation_labels = labels[train_size:]\n",
    "    \n",
    "    return train_sentences, validation_sentences, train_labels, validation_labels"
   ]
  },
  {
   "cell_type": "code",
   "execution_count": 7,
   "metadata": {},
   "outputs": [],
   "source": [
    "train_sentences, val_sentences, train_labels, val_labels = train_val_split(sentences, labels, TRAINING_SPLIT)"
   ]
  },
  {
   "cell_type": "markdown",
   "metadata": {},
   "source": [
    "# 6. Tokenization"
   ]
  },
  {
   "cell_type": "code",
   "execution_count": 8,
   "metadata": {},
   "outputs": [],
   "source": [
    "def fit_tokenizer(train_sentences, oov_token):\n",
    "    # Instantiate the Tokenizer class, passing in the correct values for oov_token\n",
    "    tokenizer = Tokenizer(oov_token=oov_token)\n",
    "    \n",
    "    # Fit the tokenizer to the training sentences\n",
    "    tokenizer.fit_on_texts(train_sentences)\n",
    "    \n",
    "    return tokenizer"
   ]
  },
  {
   "cell_type": "code",
   "execution_count": 9,
   "metadata": {},
   "outputs": [],
   "source": [
    "tokenizer = fit_tokenizer(train_sentences, OOV_TOKEN)\n",
    "\n",
    "word_index = tokenizer.word_index\n",
    "VOCAB_SIZE = len(word_index)"
   ]
  },
  {
   "cell_type": "code",
   "execution_count": 10,
   "metadata": {},
   "outputs": [],
   "source": [
    "def seq_pad_and_trunc(sentences, tokenizer, padding, truncating, maxlen):\n",
    "    # Convert sentences to sequences\n",
    "    sequences = tokenizer.texts_to_sequences(sentences)\n",
    "    \n",
    "    # Pad the sequences using the correct padding, truncating and maxlen\n",
    "    pad_trunc_sequences = pad_sequences(sequences, padding=padding, truncating=truncating, maxlen=maxlen)\n",
    "    \n",
    "    return pad_trunc_sequences"
   ]
  },
  {
   "cell_type": "code",
   "execution_count": 11,
   "metadata": {},
   "outputs": [],
   "source": [
    "train_pad_trunc_seq = seq_pad_and_trunc(train_sentences, tokenizer, PADDING, TRUNCATING, MAXLEN)\n",
    "val_pad_trunc_seq = seq_pad_and_trunc(val_sentences, tokenizer, PADDING, TRUNCATING, MAXLEN)"
   ]
  },
  {
   "cell_type": "code",
   "execution_count": 12,
   "metadata": {},
   "outputs": [],
   "source": [
    "train_labels = np.array(train_labels)\n",
    "val_labels = np.array(val_labels)"
   ]
  },
  {
   "cell_type": "markdown",
   "metadata": {},
   "source": [
    "# 7. Using Pre-defined Embeddings"
   ]
  },
  {
   "cell_type": "code",
   "execution_count": 14,
   "metadata": {},
   "outputs": [],
   "source": [
    "# https://www.kaggle.com/datasets/danielwillgeorge/glove6b100dtxt/\n",
    "GLOVE_FILE = './data/glove.6B.100d.txt'\n",
    "\n",
    "# Initialize an empty embeddings index dictionary\n",
    "GLOVE_EMBEDDINGS = {}\n",
    "\n",
    "# Read file and fill GLOVE_EMBEDDINGS with its contents\n",
    "with open(GLOVE_FILE) as f:\n",
    "    for line in f:\n",
    "        values = line.split()\n",
    "        word = values[0]\n",
    "        coefs = np.asarray(values[1:], dtype='float32')\n",
    "        GLOVE_EMBEDDINGS[word] = coefs"
   ]
  },
  {
   "cell_type": "code",
   "execution_count": 15,
   "metadata": {},
   "outputs": [
    {
     "name": "stdout",
     "output_type": "stream",
     "text": [
      "Each word vector has shape: (100,)\n"
     ]
    }
   ],
   "source": [
    "print(f\"Each word vector has shape: {GLOVE_EMBEDDINGS['dog'].shape}\")"
   ]
  },
  {
   "cell_type": "markdown",
   "metadata": {},
   "source": [
    "# 8. Representing the words in your vocabulary using the embeddings"
   ]
  },
  {
   "cell_type": "code",
   "execution_count": 16,
   "metadata": {},
   "outputs": [],
   "source": [
    "# If a word in your vocabulary is NOT present in GLOVE_EMBEDDINGS then the representation of that word is left as a column of zeros\n",
    "# word_index starts counting at 1, because of this we need to add an extra column at the left-most side of the EMBEDDINGS_MATRIX array\n",
    "# This is the reason why we add 1 to VOCAB_SIZE below:\n",
    "\n",
    "# Initialize an empty numpy array with the appopriate size\n",
    "EMBEDDINGS_MATRIX = np.zeros((VOCAB_SIZE+1, EMBEDDING_DIM))\n",
    "\n",
    "# Iterate all of the words in the vocabulary and if the vector representation for each word exists within GloVe's representations, \n",
    "# then save it in the EMBEDDINGS_MATRIX\n",
    "for word, i in word_index.items():\n",
    "    embeddings_vector = GLOVE_EMBEDDINGS.get(word)\n",
    "    if embeddings_vector is not None:\n",
    "        EMBEDDINGS_MATRIX[i] = embeddings_vector\n",
    "\n",
    "# Now your pre-trained embeddings is ready to use!"
   ]
  },
  {
   "cell_type": "markdown",
   "metadata": {},
   "source": [
    "# 9. Define a Model that does not overfit"
   ]
  },
  {
   "cell_type": "code",
   "execution_count": 22,
   "metadata": {},
   "outputs": [],
   "source": [
    "def create_model(vocab_size, embedding_dim, maxlen, embeddings_matrix):\n",
    "    model = tf.keras.Sequential([\n",
    "        tf.keras.layers.Embedding(vocab_size+1, embedding_dim, input_length=maxlen, weights=[embeddings_matrix], trainable=False), \n",
    "        tf.keras.layers.Dropout(0.2),\n",
    "        # tf.keras.layers.Bidirectional(tf.keras.layers.LSTM(32)),\n",
    "        tf.keras.layers.Conv1D(32, 5, activation='relu'),\n",
    "        tf.keras.layers.GlobalMaxPooling1D(),\n",
    "        tf.keras.layers.Dense(32, activation='relu'),\n",
    "        tf.keras.layers.Dense(1, activation='sigmoid')\n",
    "    ])\n",
    "\n",
    "    model.compile(loss='binary_crossentropy',\n",
    "                  optimizer='adam',\n",
    "                  metrics=['accuracy']) \n",
    "\n",
    "    model.summary()\n",
    "\n",
    "    return model"
   ]
  },
  {
   "cell_type": "code",
   "execution_count": 23,
   "metadata": {},
   "outputs": [
    {
     "name": "stdout",
     "output_type": "stream",
     "text": [
      "Model: \"sequential\"\n",
      "_________________________________________________________________\n",
      " Layer (type)                Output Shape              Param #   \n",
      "=================================================================\n",
      " embedding (Embedding)       (None, 16, 100)           12829400  \n",
      "                                                                 \n",
      " dropout (Dropout)           (None, 16, 100)           0         \n",
      "                                                                 \n",
      " conv1d (Conv1D)             (None, 12, 32)            16032     \n",
      "                                                                 \n",
      " global_max_pooling1d (Glob  (None, 32)                0         \n",
      " alMaxPooling1D)                                                 \n",
      "                                                                 \n",
      " dense (Dense)               (None, 32)                1056      \n",
      "                                                                 \n",
      " dense_1 (Dense)             (None, 1)                 33        \n",
      "                                                                 \n",
      "=================================================================\n",
      "Total params: 12846521 (49.01 MB)\n",
      "Trainable params: 17121 (66.88 KB)\n",
      "Non-trainable params: 12829400 (48.94 MB)\n",
      "_________________________________________________________________\n",
      "Epoch 1/20\n",
      "4500/4500 [==============================] - 6s 1ms/step - loss: 0.5804 - accuracy: 0.6894 - val_loss: 0.5361 - val_accuracy: 0.7298\n",
      "Epoch 2/20\n",
      "4500/4500 [==============================] - 6s 1ms/step - loss: 0.5454 - accuracy: 0.7180 - val_loss: 0.5250 - val_accuracy: 0.7334\n",
      "Epoch 3/20\n",
      "4500/4500 [==============================] - 6s 1ms/step - loss: 0.5331 - accuracy: 0.7279 - val_loss: 0.5203 - val_accuracy: 0.7373\n",
      "Epoch 4/20\n",
      "4500/4500 [==============================] - 6s 1ms/step - loss: 0.5257 - accuracy: 0.7316 - val_loss: 0.5227 - val_accuracy: 0.7380\n",
      "Epoch 5/20\n",
      "4500/4500 [==============================] - 5s 1ms/step - loss: 0.5189 - accuracy: 0.7377 - val_loss: 0.5240 - val_accuracy: 0.7351\n",
      "Epoch 6/20\n",
      "4500/4500 [==============================] - 6s 1ms/step - loss: 0.5146 - accuracy: 0.7414 - val_loss: 0.5119 - val_accuracy: 0.7470\n",
      "Epoch 7/20\n",
      "4500/4500 [==============================] - 6s 1ms/step - loss: 0.5101 - accuracy: 0.7441 - val_loss: 0.5147 - val_accuracy: 0.7451\n",
      "Epoch 8/20\n",
      "4500/4500 [==============================] - 6s 1ms/step - loss: 0.5064 - accuracy: 0.7464 - val_loss: 0.5119 - val_accuracy: 0.7442\n",
      "Epoch 9/20\n",
      "4500/4500 [==============================] - 6s 1ms/step - loss: 0.5030 - accuracy: 0.7492 - val_loss: 0.5148 - val_accuracy: 0.7469\n",
      "Epoch 10/20\n",
      "4500/4500 [==============================] - 5s 1ms/step - loss: 0.5022 - accuracy: 0.7494 - val_loss: 0.5116 - val_accuracy: 0.7481\n",
      "Epoch 11/20\n",
      "4500/4500 [==============================] - 6s 1ms/step - loss: 0.4992 - accuracy: 0.7505 - val_loss: 0.5088 - val_accuracy: 0.7504\n",
      "Epoch 12/20\n",
      "4500/4500 [==============================] - 5s 1ms/step - loss: 0.4983 - accuracy: 0.7514 - val_loss: 0.5076 - val_accuracy: 0.7501\n",
      "Epoch 13/20\n",
      "4500/4500 [==============================] - 6s 1ms/step - loss: 0.4956 - accuracy: 0.7540 - val_loss: 0.5088 - val_accuracy: 0.7487\n",
      "Epoch 14/20\n",
      "4500/4500 [==============================] - 5s 1ms/step - loss: 0.4950 - accuracy: 0.7540 - val_loss: 0.5090 - val_accuracy: 0.7487\n",
      "Epoch 15/20\n",
      "4500/4500 [==============================] - 6s 1ms/step - loss: 0.4940 - accuracy: 0.7547 - val_loss: 0.5095 - val_accuracy: 0.7492\n",
      "Epoch 16/20\n",
      "4500/4500 [==============================] - 5s 1ms/step - loss: 0.4925 - accuracy: 0.7567 - val_loss: 0.5092 - val_accuracy: 0.7521\n",
      "Epoch 17/20\n",
      "4500/4500 [==============================] - 6s 1ms/step - loss: 0.4909 - accuracy: 0.7561 - val_loss: 0.5070 - val_accuracy: 0.7523\n",
      "Epoch 18/20\n",
      "4500/4500 [==============================] - 5s 1ms/step - loss: 0.4903 - accuracy: 0.7575 - val_loss: 0.5166 - val_accuracy: 0.7494\n",
      "Epoch 19/20\n",
      "4500/4500 [==============================] - 5s 1ms/step - loss: 0.4905 - accuracy: 0.7574 - val_loss: 0.5089 - val_accuracy: 0.7489\n",
      "Epoch 20/20\n",
      "4500/4500 [==============================] - 6s 1ms/step - loss: 0.4903 - accuracy: 0.7573 - val_loss: 0.5091 - val_accuracy: 0.7502\n"
     ]
    }
   ],
   "source": [
    "# Create your untrained model\n",
    "model = create_model(VOCAB_SIZE, EMBEDDING_DIM, MAXLEN, EMBEDDINGS_MATRIX)\n",
    "\n",
    "# Train the model and save the training history\n",
    "history = model.fit(train_pad_trunc_seq, train_labels, epochs=20, validation_data=(val_pad_trunc_seq, val_labels))"
   ]
  },
  {
   "cell_type": "code",
   "execution_count": 24,
   "metadata": {},
   "outputs": [
    {
     "data": {
      "image/png": "[encoded data removed]",
      "text/plain": [
       "<Figure size 640x480 with 1 Axes>"
      ]
     },
     "metadata": {},
     "output_type": "display_data"
    }
   ],
   "source": [
    "#-----------------------------------------------------------\n",
    "# Retrieve a list of list results on training and test data\n",
    "# sets for each training epoch\n",
    "#-----------------------------------------------------------\n",
    "loss = history.history['loss']\n",
    "val_loss = history.history['val_loss']\n",
    "\n",
    "epochs = [*range(20)]\n",
    "\n",
    "#------------------------------------------------\n",
    "# Plot training and validation loss per epoch\n",
    "#------------------------------------------------\n",
    "plt.plot(epochs, loss, 'r')\n",
    "plt.plot(epochs, val_loss, 'b')\n",
    "plt.title('Training and validation loss')\n",
    "plt.xlabel(\"Epochs\")\n",
    "plt.ylabel(\"Loss\")\n",
    "plt.legend([\"Loss\", \"Validation Loss\"])\n",
    "plt.show()"
   ]
  },
  {
   "cell_type": "code",
   "execution_count": 25,
   "metadata": {},
   "outputs": [
    {
     "data": {
      "image/png": "[encoded data removed]",
      "text/plain": [
       "<Figure size 640x480 with 1 Axes>"
      ]
     },
     "metadata": {},
     "output_type": "display_data"
    }
   ],
   "source": [
    "acc = history.history['accuracy']\n",
    "val_acc = history.history['val_accuracy']\n",
    "\n",
    "#------------------------------------------------\n",
    "# Plot training and validation accuracy per epoch\n",
    "#------------------------------------------------\n",
    "plt.plot(epochs, acc, 'r')\n",
    "plt.plot(epochs, val_acc, 'b')\n",
    "plt.title('Training and validation accuracy')\n",
    "plt.xlabel(\"Epochs\")\n",
    "plt.ylabel(\"Accuracy\")\n",
    "plt.legend([\"Accuracy\", \"Validation Accuracy\"])\n",
    "plt.show()"
   ]
  },
  {
   "cell_type": "code",
   "execution_count": 26,
   "metadata": {},
   "outputs": [
    {
     "name": "stdout",
     "output_type": "stream",
     "text": [
      "The slope of your validation loss curve is -0.00099\n"
     ]
    }
   ],
   "source": [
    "# Test the slope of your val_loss curve\n",
    "slope, *_ = linregress(epochs, val_loss)\n",
    "print(f\"The slope of your validation loss curve is {slope:.5f}\")"
   ]
  }
 ],
 "metadata": {
  "kernelspec": {
   "display_name": "Python 3",
   "language": "python",
   "name": "python3"
  },
  "language_info": {
   "codemirror_mode": {
    "name": "ipython",
    "version": 3
   },
   "file_extension": ".py",
   "mimetype": "text/x-python",
   "name": "python",
   "nbconvert_exporter": "python",
   "pygments_lexer": "ipython3",
   "version": "3.9.18"
  }
 },
 "nbformat": 4,
 "nbformat_minor": 2
}
