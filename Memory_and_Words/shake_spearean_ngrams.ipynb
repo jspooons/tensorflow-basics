{
 "cells": [
  {
   "cell_type": "markdown",
   "metadata": {},
   "source": [
    "# 1. Imports"
   ]
  },
  {
   "cell_type": "code",
   "execution_count": 1,
   "metadata": {},
   "outputs": [],
   "source": [
    "import numpy as np \n",
    "import matplotlib.pyplot as plt\n",
    "import gdown\n",
    "from tensorflow.keras.models import Sequential\n",
    "from tensorflow.keras.utils import to_categorical \n",
    "from tensorflow.keras.preprocessing.text import Tokenizer\n",
    "from tensorflow.keras.preprocessing.sequence import pad_sequences\n",
    "from tensorflow.keras.layers import Embedding, LSTM, Dense, Bidirectional"
   ]
  },
  {
   "cell_type": "markdown",
   "metadata": {},
   "source": [
    "# 2. Load the Data"
   ]
  },
  {
   "cell_type": "code",
   "execution_count": 4,
   "metadata": {},
   "outputs": [
    {
     "name": "stderr",
     "output_type": "stream",
     "text": [
      "Downloading...\n",
      "From: https://drive.google.com/uc?id=108jAePKK4R3BVYBbYJZ32JWUwxeMg20K\n",
      "To: /Users/jordanspooner/git/tensorflow-basics/Memory_and_Words/data/sonnets.txt\n",
      "100%|██████████| 93.6k/93.6k [00:00<00:00, 43.2MB/s]\n"
     ]
    },
    {
     "data": {
      "text/plain": [
       "'./data/sonnets.txt'"
      ]
     },
     "execution_count": 4,
     "metadata": {},
     "output_type": "execute_result"
    }
   ],
   "source": [
    "url = 'https://drive.google.com/uc?id=108jAePKK4R3BVYBbYJZ32JWUwxeMg20K'\n",
    "output = './data/sonnets.txt'\n",
    "\n",
    "gdown.download(url, output, quiet=False)"
   ]
  },
  {
   "cell_type": "code",
   "execution_count": 6,
   "metadata": {},
   "outputs": [
    {
     "name": "stdout",
     "output_type": "stream",
     "text": [
      "There are 2159 lines of sonnets\n",
      "\n",
      "The first 5 lines look like this:\n",
      "\n",
      "from fairest creatures we desire increase,\n",
      "that thereby beauty's rose might never die,\n",
      "but as the riper should by time decease,\n",
      "his tender heir might bear his memory:\n",
      "but thou, contracted to thine own bright eyes,\n"
     ]
    }
   ],
   "source": [
    "# Define path for file with sonnets\n",
    "SONNETS_FILE = './data/sonnets.txt'\n",
    "\n",
    "# Read the data\n",
    "with open(SONNETS_FILE) as f:\n",
    "    data = f.read()\n",
    "\n",
    "# Convert to lower case and save as a list\n",
    "corpus = data.lower().split(\"\\n\")\n",
    "\n",
    "print(f\"There are {len(corpus)} lines of sonnets\\n\")\n",
    "print(f\"The first 5 lines look like this:\\n\")\n",
    "for i in range(5):\n",
    "  print(corpus[i])"
   ]
  },
  {
   "cell_type": "markdown",
   "metadata": {},
   "source": [
    "# 3. Tokenizing the Text"
   ]
  },
  {
   "cell_type": "code",
   "execution_count": 7,
   "metadata": {},
   "outputs": [],
   "source": [
    "tokenizer = Tokenizer()\n",
    "tokenizer.fit_on_texts(corpus)\n",
    "total_words = len(tokenizer.word_index) + 1 # remember to add 1 for OOV characters"
   ]
  },
  {
   "cell_type": "code",
   "execution_count": 8,
   "metadata": {},
   "outputs": [
    {
     "data": {
      "text/plain": [
       "'from fairest creatures we desire increase,'"
      ]
     },
     "execution_count": 8,
     "metadata": {},
     "output_type": "execute_result"
    }
   ],
   "source": [
    "# The first example of the corpus is a string and looks like:\n",
    "corpus[0]"
   ]
  },
  {
   "cell_type": "code",
   "execution_count": 10,
   "metadata": {},
   "outputs": [
    {
     "data": {
      "text/plain": [
       "[[], [], [58], [], []]"
      ]
     },
     "execution_count": 10,
     "metadata": {},
     "output_type": "execute_result"
    }
   ],
   "source": [
    "# If you pass this text directly into the texts_to_sequences method you will get an unexpected result:\n",
    "tokenizer.texts_to_sequences(corpus[0][:5]) # just showing the first five characters"
   ]
  },
  {
   "cell_type": "code",
   "execution_count": 11,
   "metadata": {},
   "outputs": [
    {
     "data": {
      "text/plain": [
       "[[34, 417, 877, 166, 213, 517]]"
      ]
     },
     "execution_count": 11,
     "metadata": {},
     "output_type": "execute_result"
    }
   ],
   "source": [
    "# This happened because texts_to_sequences expects a list and you are providing a string. \n",
    "# However a string is still and iterable in Python so you will get the word index of every character in the string.\n",
    "\n",
    "# Instead you need to place the example whithin a list before passing it to the method:\n",
    "tokenizer.texts_to_sequences([corpus[0]])"
   ]
  },
  {
   "cell_type": "code",
   "execution_count": 12,
   "metadata": {},
   "outputs": [
    {
     "data": {
      "text/plain": [
       "[34, 417, 877, 166, 213, 517]"
      ]
     },
     "execution_count": 12,
     "metadata": {},
     "output_type": "execute_result"
    }
   ],
   "source": [
    "# Notice that you received the sequence wrapped inside a list so in order to get only the desired sequence \n",
    "# you need to explicitly get the first item in the list like this:\n",
    "\n",
    "tokenizer.texts_to_sequences([corpus[0]])[0]"
   ]
  },
  {
   "cell_type": "markdown",
   "metadata": {},
   "source": [
    "# 4. Generating n_grams"
   ]
  },
  {
   "cell_type": "code",
   "execution_count": 13,
   "metadata": {},
   "outputs": [],
   "source": [
    "def n_gram_seqs(corpus, tokenizer):\n",
    "\tinput_sequences = []\n",
    "\n",
    "\tfor line in corpus:\n",
    "\t\ttoken_list = tokenizer.texts_to_sequences([line])[0]\n",
    "\n",
    "\t\tfor i in range(1, len(token_list)):\n",
    "\t\t\t# Generate subphrase\n",
    "\t\t\tn_gram_sequence = token_list[:i+1]\n",
    "\t\t\t# Append subphrase to input_sequences list\n",
    "\t\t\tinput_sequences.append(n_gram_sequence)\n",
    "\t \n",
    "\treturn input_sequences"
   ]
  },
  {
   "cell_type": "code",
   "execution_count": 14,
   "metadata": {},
   "outputs": [
    {
     "name": "stdout",
     "output_type": "stream",
     "text": [
      "n_gram sequences for first example look like this:\n",
      "\n"
     ]
    },
    {
     "data": {
      "text/plain": [
       "[[34, 417],\n",
       " [34, 417, 877],\n",
       " [34, 417, 877, 166],\n",
       " [34, 417, 877, 166, 213],\n",
       " [34, 417, 877, 166, 213, 517]]"
      ]
     },
     "execution_count": 14,
     "metadata": {},
     "output_type": "execute_result"
    }
   ],
   "source": [
    "# Test your function with one example\n",
    "first_example_sequence = n_gram_seqs([corpus[0]], tokenizer)\n",
    "\n",
    "print(\"n_gram sequences for first example look like this:\\n\")\n",
    "first_example_sequence"
   ]
  },
  {
   "cell_type": "code",
   "execution_count": 15,
   "metadata": {},
   "outputs": [
    {
     "name": "stdout",
     "output_type": "stream",
     "text": [
      "number of sequences in corpus 2159\n",
      "n_grams of input_sequences have length: 15462\n",
      "maximum length of sequences is: 11\n"
     ]
    }
   ],
   "source": [
    "# Apply the n_gram_seqs transformation to the whole corpus\n",
    "input_sequences = n_gram_seqs(corpus, tokenizer)\n",
    "\n",
    "# Save max length \n",
    "max_sequence_len = max([len(x) for x in input_sequences])\n",
    "\n",
    "print(f\"number of sequences in corpus {len(corpus)}\")\n",
    "print(f\"n_grams of input_sequences have length: {len(input_sequences)}\")\n",
    "print(f\"maximum length of sequences is: {max_sequence_len}\")"
   ]
  },
  {
   "cell_type": "markdown",
   "metadata": {},
   "source": [
    "# 5. Add Padding to the Sequences"
   ]
  },
  {
   "cell_type": "code",
   "execution_count": 16,
   "metadata": {},
   "outputs": [],
   "source": [
    "def pad_seqs(input_sequences, maxlen):\n",
    "    padded_sequences = pad_sequences(input_sequences, maxlen=maxlen, padding='pre')\n",
    "    \n",
    "    return padded_sequences"
   ]
  },
  {
   "cell_type": "code",
   "execution_count": 17,
   "metadata": {},
   "outputs": [
    {
     "data": {
      "text/plain": [
       "array([[  0,   0,   0,  34, 417],\n",
       "       [  0,   0,  34, 417, 877],\n",
       "       [  0,  34, 417, 877, 166],\n",
       "       [ 34, 417, 877, 166, 213],\n",
       "       [417, 877, 166, 213, 517]], dtype=int32)"
      ]
     },
     "execution_count": 17,
     "metadata": {},
     "output_type": "execute_result"
    }
   ],
   "source": [
    "# Test your function with the n_grams_seq of the first example\n",
    "first_padded_seq = pad_seqs(first_example_sequence, len(first_example_sequence))\n",
    "first_padded_seq"
   ]
  },
  {
   "cell_type": "code",
   "execution_count": 18,
   "metadata": {},
   "outputs": [
    {
     "name": "stdout",
     "output_type": "stream",
     "text": [
      "padded corpus has shape: (15462, 11)\n"
     ]
    }
   ],
   "source": [
    "# Pad the whole corpus\n",
    "input_sequences = pad_seqs(input_sequences, max_sequence_len)\n",
    "\n",
    "print(f\"padded corpus has shape: {input_sequences.shape}\")"
   ]
  },
  {
   "cell_type": "markdown",
   "metadata": {},
   "source": [
    "# 6. Split the Data into Features and Labels"
   ]
  },
  {
   "cell_type": "code",
   "execution_count": 19,
   "metadata": {},
   "outputs": [],
   "source": [
    "# Before feeding the data into the neural network we should split it into features and labels. \n",
    "# In this case the features will be the padded n_gram sequences with the last word removed from them and the labels will be the removed word.\n",
    "\n",
    "def features_and_labels(input_sequences, total_words):\n",
    "    features = input_sequences[:,:-1]\n",
    "    labels = input_sequences[:,-1]\n",
    "    one_hot_labels = to_categorical(labels, num_classes=total_words)\n",
    "\n",
    "    return features, one_hot_labels"
   ]
  },
  {
   "cell_type": "code",
   "execution_count": 23,
   "metadata": {},
   "outputs": [
    {
     "name": "stdout",
     "output_type": "stream",
     "text": [
      "labels have shape: (5, 3211)\n",
      "\n",
      "features look like this:\n",
      "\n"
     ]
    },
    {
     "data": {
      "text/plain": [
       "array([[  0,   0,   0,  34],\n",
       "       [  0,   0,  34, 417],\n",
       "       [  0,  34, 417, 877],\n",
       "       [ 34, 417, 877, 166],\n",
       "       [417, 877, 166, 213]], dtype=int32)"
      ]
     },
     "execution_count": 23,
     "metadata": {},
     "output_type": "execute_result"
    }
   ],
   "source": [
    "# Test your function with the padded n_grams_seq of the first example\n",
    "first_features, first_labels = features_and_labels(first_padded_seq, total_words)\n",
    "\n",
    "print(f\"labels have shape: {first_labels.shape}\") # (num_sequences, num_target_words)\n",
    "print(\"\\nfeatures look like this:\\n\") # (num_sequences, length_of_max_token)\n",
    "first_features"
   ]
  },
  {
   "cell_type": "code",
   "execution_count": 21,
   "metadata": {},
   "outputs": [
    {
     "name": "stdout",
     "output_type": "stream",
     "text": [
      "features have shape: (15462, 10)\n",
      "labels have shape: (15462, 3211)\n"
     ]
    }
   ],
   "source": [
    "# Split the whole corpus\n",
    "features, labels = features_and_labels(input_sequences, total_words)\n",
    "\n",
    "print(f\"features have shape: {features.shape}\")\n",
    "print(f\"labels have shape: {labels.shape}\")"
   ]
  },
  {
   "cell_type": "markdown",
   "metadata": {},
   "source": [
    "# 7. Create the Model"
   ]
  },
  {
   "cell_type": "code",
   "execution_count": 24,
   "metadata": {},
   "outputs": [],
   "source": [
    "def create_model(total_words, max_sequence_len):\n",
    "    \n",
    "    model = Sequential()\n",
    "\n",
    "    model.add(Embedding(total_words, 100, input_length=max_sequence_len-1))\n",
    "    model.add(Bidirectional(LSTM(150)))\n",
    "    model.add(Dense(total_words, activation='softmax'))\n",
    "\n",
    "    # Compile the model\n",
    "    model.compile(loss='categorical_crossentropy',\n",
    "                  optimizer='adam',\n",
    "                  metrics=['accuracy'])\n",
    "\n",
    "    return model"
   ]
  },
  {
   "cell_type": "code",
   "execution_count": 25,
   "metadata": {},
   "outputs": [
    {
     "name": "stdout",
     "output_type": "stream",
     "text": [
      "Epoch 1/50\n",
      "484/484 [==============================] - 7s 12ms/step - loss: 6.8864 - accuracy: 0.0228\n",
      "Epoch 2/50\n",
      "484/484 [==============================] - 6s 13ms/step - loss: 6.4367 - accuracy: 0.0294\n",
      "Epoch 3/50\n",
      "484/484 [==============================] - 6s 12ms/step - loss: 6.2041 - accuracy: 0.0421\n",
      "Epoch 4/50\n",
      "484/484 [==============================] - 6s 12ms/step - loss: 5.9482 - accuracy: 0.0515\n",
      "Epoch 5/50\n",
      "484/484 [==============================] - 6s 12ms/step - loss: 5.6475 - accuracy: 0.0627\n",
      "Epoch 6/50\n",
      "484/484 [==============================] - 6s 12ms/step - loss: 5.2876 - accuracy: 0.0792\n",
      "Epoch 7/50\n",
      "484/484 [==============================] - 6s 12ms/step - loss: 4.8888 - accuracy: 0.0978\n",
      "Epoch 8/50\n",
      "484/484 [==============================] - 6s 12ms/step - loss: 4.4631 - accuracy: 0.1325\n",
      "Epoch 9/50\n",
      "484/484 [==============================] - 6s 12ms/step - loss: 4.0369 - accuracy: 0.1852\n",
      "Epoch 10/50\n",
      "484/484 [==============================] - 6s 12ms/step - loss: 3.6195 - accuracy: 0.2533\n",
      "Epoch 11/50\n",
      "484/484 [==============================] - 6s 12ms/step - loss: 3.2411 - accuracy: 0.3212\n",
      "Epoch 12/50\n",
      "484/484 [==============================] - 6s 12ms/step - loss: 2.8967 - accuracy: 0.3875\n",
      "Epoch 13/50\n",
      "484/484 [==============================] - 6s 12ms/step - loss: 2.5995 - accuracy: 0.4428\n",
      "Epoch 14/50\n",
      "484/484 [==============================] - 6s 12ms/step - loss: 2.3395 - accuracy: 0.4982\n",
      "Epoch 15/50\n",
      "484/484 [==============================] - 6s 13ms/step - loss: 2.1122 - accuracy: 0.5508\n",
      "Epoch 16/50\n",
      "484/484 [==============================] - 6s 12ms/step - loss: 1.9155 - accuracy: 0.5979\n",
      "Epoch 17/50\n",
      "484/484 [==============================] - 6s 12ms/step - loss: 1.7401 - accuracy: 0.6359\n",
      "Epoch 18/50\n",
      "484/484 [==============================] - 6s 13ms/step - loss: 1.5794 - accuracy: 0.6672\n",
      "Epoch 19/50\n",
      "484/484 [==============================] - 6s 13ms/step - loss: 1.4488 - accuracy: 0.6986\n",
      "Epoch 20/50\n",
      "484/484 [==============================] - 6s 11ms/step - loss: 1.3187 - accuracy: 0.7238\n",
      "Epoch 21/50\n",
      "484/484 [==============================] - 6s 12ms/step - loss: 1.2104 - accuracy: 0.7489\n",
      "Epoch 22/50\n",
      "484/484 [==============================] - 6s 12ms/step - loss: 1.1229 - accuracy: 0.7679\n",
      "Epoch 23/50\n",
      "484/484 [==============================] - 6s 11ms/step - loss: 1.0406 - accuracy: 0.7839\n",
      "Epoch 24/50\n",
      "484/484 [==============================] - 6s 12ms/step - loss: 0.9678 - accuracy: 0.7980\n",
      "Epoch 25/50\n",
      "484/484 [==============================] - 6s 12ms/step - loss: 0.9077 - accuracy: 0.8090\n",
      "Epoch 26/50\n",
      "484/484 [==============================] - 5s 11ms/step - loss: 0.8589 - accuracy: 0.8168\n",
      "Epoch 27/50\n",
      "484/484 [==============================] - 6s 11ms/step - loss: 0.8204 - accuracy: 0.8208\n",
      "Epoch 28/50\n",
      "484/484 [==============================] - 5s 11ms/step - loss: 0.7760 - accuracy: 0.8283\n",
      "Epoch 29/50\n",
      "484/484 [==============================] - 5s 11ms/step - loss: 0.7497 - accuracy: 0.8319\n",
      "Epoch 30/50\n",
      "484/484 [==============================] - 6s 12ms/step - loss: 0.7175 - accuracy: 0.8375\n",
      "Epoch 31/50\n",
      "484/484 [==============================] - 7s 13ms/step - loss: 0.6963 - accuracy: 0.8401\n",
      "Epoch 32/50\n",
      "484/484 [==============================] - 6s 13ms/step - loss: 0.6780 - accuracy: 0.8424\n",
      "Epoch 33/50\n",
      "484/484 [==============================] - 6s 12ms/step - loss: 0.6599 - accuracy: 0.8426\n",
      "Epoch 34/50\n",
      "484/484 [==============================] - 6s 13ms/step - loss: 0.6558 - accuracy: 0.8440\n",
      "Epoch 35/50\n",
      "484/484 [==============================] - 6s 13ms/step - loss: 0.6386 - accuracy: 0.8456\n",
      "Epoch 36/50\n",
      "484/484 [==============================] - 6s 13ms/step - loss: 0.6322 - accuracy: 0.8452\n",
      "Epoch 37/50\n",
      "484/484 [==============================] - 6s 12ms/step - loss: 0.6174 - accuracy: 0.8472\n",
      "Epoch 38/50\n",
      "484/484 [==============================] - 6s 12ms/step - loss: 0.6132 - accuracy: 0.8478\n",
      "Epoch 39/50\n",
      "484/484 [==============================] - 6s 13ms/step - loss: 0.6055 - accuracy: 0.8480\n",
      "Epoch 40/50\n",
      "484/484 [==============================] - 6s 12ms/step - loss: 0.6008 - accuracy: 0.8477\n",
      "Epoch 41/50\n",
      "484/484 [==============================] - 6s 13ms/step - loss: 0.5964 - accuracy: 0.8479\n",
      "Epoch 42/50\n",
      "484/484 [==============================] - 6s 12ms/step - loss: 0.5926 - accuracy: 0.8463\n",
      "Epoch 43/50\n",
      "484/484 [==============================] - 6s 12ms/step - loss: 0.5873 - accuracy: 0.8493\n",
      "Epoch 44/50\n",
      "484/484 [==============================] - 6s 12ms/step - loss: 0.5887 - accuracy: 0.8474\n",
      "Epoch 45/50\n",
      "484/484 [==============================] - 6s 12ms/step - loss: 0.5813 - accuracy: 0.8478\n",
      "Epoch 46/50\n",
      "484/484 [==============================] - 6s 12ms/step - loss: 0.5752 - accuracy: 0.8501\n",
      "Epoch 47/50\n",
      "484/484 [==============================] - 6s 13ms/step - loss: 0.5695 - accuracy: 0.8486\n",
      "Epoch 48/50\n",
      "484/484 [==============================] - 6s 13ms/step - loss: 0.5740 - accuracy: 0.8489\n",
      "Epoch 49/50\n",
      "484/484 [==============================] - 6s 12ms/step - loss: 0.5639 - accuracy: 0.8487\n",
      "Epoch 50/50\n",
      "484/484 [==============================] - 6s 12ms/step - loss: 0.5615 - accuracy: 0.8488\n"
     ]
    }
   ],
   "source": [
    "# Get the untrained model\n",
    "model = create_model(total_words, max_sequence_len)\n",
    "\n",
    "# Train the model\n",
    "history = model.fit(features, labels, epochs=50, verbose=1)"
   ]
  },
  {
   "cell_type": "markdown",
   "metadata": {},
   "source": [
    "# 8. Evaluating the History"
   ]
  },
  {
   "cell_type": "code",
   "execution_count": 26,
   "metadata": {},
   "outputs": [
    {
     "data": {
      "image/png": "[encoded data removed]",
      "text/plain": [
       "<Figure size 640x480 with 1 Axes>"
      ]
     },
     "metadata": {},
     "output_type": "display_data"
    },
    {
     "data": {
      "image/png": "[encoded data removed]",
      "text/plain": [
       "<Figure size 640x480 with 1 Axes>"
      ]
     },
     "metadata": {},
     "output_type": "display_data"
    }
   ],
   "source": [
    "# Take a look at the training curves of your model\n",
    "\n",
    "acc = history.history['accuracy']\n",
    "loss = history.history['loss']\n",
    "\n",
    "epochs = range(len(acc))\n",
    "\n",
    "plt.plot(epochs, acc, 'b', label='Training accuracy')\n",
    "plt.title('Training accuracy')\n",
    "\n",
    "plt.figure()\n",
    "\n",
    "plt.plot(epochs, loss, 'b', label='Training Loss')\n",
    "plt.title('Training loss')\n",
    "plt.legend()\n",
    "\n",
    "plt.show()"
   ]
  },
  {
   "cell_type": "markdown",
   "metadata": {},
   "source": [
    "# 9. See the Model in Action!"
   ]
  },
  {
   "cell_type": "code",
   "execution_count": 27,
   "metadata": {},
   "outputs": [
    {
     "name": "stdout",
     "output_type": "stream",
     "text": [
      "Help me Obi Wan Kenobi, you're my only hope what should make me told me in me with thine eyes might see no thee such thy heart lies 'will ' ' ' dearer bring his friend dead night thee to show ' ' to me mad seen friend itself so bold and part one twain blamed lies 'will ' bring forth so so say thy change ' say i bring ' bring thee for thy sake hath his verse translate cause ' so great 'will ' light light so near both depends twain had quenched her men's more 'will ' say so best ' see thy friend ' thine\n"
     ]
    }
   ],
   "source": [
    "seed_text = \"Help me Obi Wan Kenobi, you're my only hope\"\n",
    "next_words = 100\n",
    "  \n",
    "for _ in range(next_words):\n",
    "\t# Convert the text into sequences\n",
    "\ttoken_list = tokenizer.texts_to_sequences([seed_text])[0]\n",
    "\t# Pad the sequences\n",
    "\ttoken_list = pad_sequences([token_list], maxlen=max_sequence_len-1, padding='pre')\n",
    "\t# Get the probabilities of predicting a word\n",
    "\tpredicted = model.predict(token_list, verbose=0)\n",
    "\t# Choose the next word based on the maximum probability\n",
    "\tpredicted = np.argmax(predicted, axis=-1).item()\n",
    "\t# Get the actual word from the word index\n",
    "\toutput_word = tokenizer.index_word[predicted]\n",
    "\t# Append to the current text\n",
    "\tseed_text += \" \" + output_word\n",
    "\n",
    "print(seed_text)"
   ]
  }
 ],
 "metadata": {
  "kernelspec": {
   "display_name": "Python 3",
   "language": "python",
   "name": "python3"
  },
  "language_info": {
   "codemirror_mode": {
    "name": "ipython",
    "version": 3
   },
   "file_extension": ".py",
   "mimetype": "text/x-python",
   "name": "python",
   "nbconvert_exporter": "python",
   "pygments_lexer": "ipython3",
   "version": "3.9.18"
  }
 },
 "nbformat": 4,
 "nbformat_minor": 2
}
